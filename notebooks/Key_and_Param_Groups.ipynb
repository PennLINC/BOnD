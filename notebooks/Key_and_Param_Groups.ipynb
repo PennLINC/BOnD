{
 "cells": [
  {
   "cell_type": "code",
   "execution_count": 1,
   "metadata": {},
   "outputs": [],
   "source": [
    "#!/usr/bin/env python\n",
    "\n",
    "\"\"\"Tests for `bond` package.\"\"\"\n",
    "import sys\n",
    "import time\n",
    "from pathlib import Path\n",
    "import csv\n",
    "import pandas as pd\n",
    "#sys.path.append(\"..\")\n",
    "import os\n",
    "#import pytest\n",
    "from pkg_resources import resource_filename as pkgrf\n",
    "from bond import BOnD\n",
    "#import shutil\n",
    "#import bond\n",
    "#import tempfile\n",
    "#import os.path as op\n",
    "#from copy import deepcopy\n",
    "#import base64\n",
    "#from glob import glob\n",
    "\n",
    "TEST_DATA = pkgrf(\"bond\", \"testdata\")\n",
    "\n",
    "\n",
    "#data_root = Path(\".\") / \"testdata\" / \"complete\"\n",
    "\n",
    "data_root2 = \"/Users/Covitz/Downloads/RBC_growupCCNP_BIDS/\"\n",
    "\n",
    "#shutil.copytree(TEST_DATA, str(data_root))"
   ]
  },
  {
   "cell_type": "code",
   "execution_count": 2,
   "metadata": {},
   "outputs": [],
   "source": [
    "#!find testdata"
   ]
  },
  {
   "cell_type": "code",
   "execution_count": 3,
   "metadata": {
    "scrolled": true
   },
   "outputs": [
    {
     "name": "stdout",
     "output_type": "stream",
     "text": [
      "['datatype-anat_reconstruction-refaced_suffix-T1w', 'datatype-func_run-1_suffix-bold_task-rest', 'datatype-func_run-2_suffix-bold_task-rest']\n"
     ]
    }
   ],
   "source": [
    "bod = BOnD(data_root2)\n",
    "key_groups = bod.get_key_groups()\n",
    "print(key_groups)"
   ]
  },
  {
   "cell_type": "code",
   "execution_count": 4,
   "metadata": {},
   "outputs": [
    {
     "name": "stdout",
     "output_type": "stream",
     "text": [
      "190\n"
     ]
    }
   ],
   "source": [
    "files = bod.get_filenames('datatype-func_run-2_suffix-bold_task-rest')\n",
    "files\n",
    "#print(files)\n",
    "print(len(files))"
   ]
  },
  {
   "cell_type": "code",
   "execution_count": 5,
   "metadata": {},
   "outputs": [
    {
     "name": "stdout",
     "output_type": "stream",
     "text": [
      "datatype-anat_reconstruction-refaced_suffix-T1w\n",
      "191\n",
      "datatype-func_run-1_suffix-bold_task-rest\n",
      "191\n",
      "datatype-func_run-2_suffix-bold_task-rest\n",
      "190\n"
     ]
    }
   ],
   "source": [
    "\n",
    "for key_group in key_groups:\n",
    "    print(key_group)\n",
    "    output = bod.get_file_params(key_group)\n",
    "    print(len(output))\n",
    "    #print(output)\n",
    "    \n",
    "\n",
    "    #print(output)\n",
    "    #output2 = bod.get_param_groups(key_group)\n",
    "    #print(output2[1])\n",
    "    #print(output[1])\n",
    "    #print(output[0])\n",
    "    #print(len(output[0]))\n",
    "    #output.to_csv('Tests/' + key_group + '.csv')\n",
    "    # export the line above to a csv\n",
    "    # data = data.append(pd.DataFrame(DwellTime: key_group.\n",
    "#print(output['/Users/Covitz/Downloads/RBC_growupCCNP_BIDS/sub-colornest195/ses-1/func/sub-colornest195_ses-1_task-rest_run-02_bold.nii.gz'])\n",
    "#print(output)\n"
   ]
  },
  {
   "cell_type": "code",
   "execution_count": null,
   "metadata": {},
   "outputs": [],
   "source": [
    "key_group = 'datatype-func_run-2_suffix-bold_task-rest'\n",
    "file_params_dict = bod.get_file_params(key_group)\n",
    "print(len(file_params_dict))\n",
    "print(file_params_dict)\n",
    "#print(output[1])\n",
    "#print(output[0])\n",
    "# filenames = list(output.keys())\n",
    "# first_params = output[filenames[0]] \n",
    "# #for path in filenames: \n",
    "#     #print(path + \"\\n\")\n",
    "# #print(first_params)\n",
    "\n",
    "\n",
    "\n",
    "# GET ALL FILENAMES ASSOCIATED WITH A KEY GROUP\n",
    "# USE GLOB TO FIND ALL INSTANCES \n",
    "# IF THEY MATCH AND DICTS MATCH, DO THE REPLACEMENT \n",
    "\n",
    "\n",
    "# for i in range(len(files)):\n",
    "#     files[i] = str(files[i])\n",
    "# files_size = len(files)\n",
    "# print(files_size)\n",
    "# print(files[0])\n",
    "\n",
    "# filenames_size = len(filenames)\n",
    "# print(filenames_size)\n",
    "# print(filenames[0])\n",
    "\n",
    "# param_groups = bod.get_param_groups(key_group)\n",
    "# print(len(param_groups))\n",
    "    "
   ]
  },
  {
   "cell_type": "code",
   "execution_count": 10,
   "metadata": {},
   "outputs": [
    {
     "name": "stdout",
     "output_type": "stream",
     "text": [
      "[PosixPath('/Users/Covitz/Downloads/RBC_growupCCNP_BIDS/sub-colornest003/ses-1/func/sub-colornest003_ses-1_task-rest_run-02_bold.nii.gz'), PosixPath('/Users/Covitz/Downloads/RBC_growupCCNP_BIDS/sub-colornest004/ses-1/func/sub-colornest004_ses-1_task-rest_run-02_bold.nii.gz'), PosixPath('/Users/Covitz/Downloads/RBC_growupCCNP_BIDS/sub-colornest005/ses-1/func/sub-colornest005_ses-1_task-rest_run-02_bold.nii.gz'), PosixPath('/Users/Covitz/Downloads/RBC_growupCCNP_BIDS/sub-colornest007/ses-1/func/sub-colornest007_ses-1_task-rest_run-02_bold.nii.gz'), PosixPath('/Users/Covitz/Downloads/RBC_growupCCNP_BIDS/sub-colornest008/ses-1/func/sub-colornest008_ses-1_task-rest_run-02_bold.nii.gz'), PosixPath('/Users/Covitz/Downloads/RBC_growupCCNP_BIDS/sub-colornest013/ses-1/func/sub-colornest013_ses-1_task-rest_run-02_bold.nii.gz'), PosixPath('/Users/Covitz/Downloads/RBC_growupCCNP_BIDS/sub-colornest015/ses-1/func/sub-colornest015_ses-1_task-rest_run-02_bold.nii.gz'), PosixPath('/Users/Covitz/Downloads/RBC_growupCCNP_BIDS/sub-colornest016/ses-1/func/sub-colornest016_ses-1_task-rest_run-02_bold.nii.gz'), PosixPath('/Users/Covitz/Downloads/RBC_growupCCNP_BIDS/sub-colornest023/ses-1/func/sub-colornest023_ses-1_task-rest_run-02_bold.nii.gz'), PosixPath('/Users/Covitz/Downloads/RBC_growupCCNP_BIDS/sub-colornest026/ses-1/func/sub-colornest026_ses-1_task-rest_run-02_bold.nii.gz'), PosixPath('/Users/Covitz/Downloads/RBC_growupCCNP_BIDS/sub-colornest027/ses-1/func/sub-colornest027_ses-1_task-rest_run-02_bold.nii.gz'), PosixPath('/Users/Covitz/Downloads/RBC_growupCCNP_BIDS/sub-colornest029/ses-1/func/sub-colornest029_ses-1_task-rest_run-02_bold.nii.gz'), PosixPath('/Users/Covitz/Downloads/RBC_growupCCNP_BIDS/sub-colornest032/ses-1/func/sub-colornest032_ses-1_task-rest_run-02_bold.nii.gz'), PosixPath('/Users/Covitz/Downloads/RBC_growupCCNP_BIDS/sub-colornest033/ses-1/func/sub-colornest033_ses-1_task-rest_run-02_bold.nii.gz'), PosixPath('/Users/Covitz/Downloads/RBC_growupCCNP_BIDS/sub-colornest041/ses-1/func/sub-colornest041_ses-1_task-rest_run-02_bold.nii.gz'), PosixPath('/Users/Covitz/Downloads/RBC_growupCCNP_BIDS/sub-colornest045/ses-1/func/sub-colornest045_ses-1_task-rest_run-02_bold.nii.gz'), PosixPath('/Users/Covitz/Downloads/RBC_growupCCNP_BIDS/sub-colornest047/ses-1/func/sub-colornest047_ses-1_task-rest_run-02_bold.nii.gz'), PosixPath('/Users/Covitz/Downloads/RBC_growupCCNP_BIDS/sub-colornest049/ses-1/func/sub-colornest049_ses-1_task-rest_run-02_bold.nii.gz'), PosixPath('/Users/Covitz/Downloads/RBC_growupCCNP_BIDS/sub-colornest052/ses-1/func/sub-colornest052_ses-1_task-rest_run-02_bold.nii.gz'), PosixPath('/Users/Covitz/Downloads/RBC_growupCCNP_BIDS/sub-colornest053/ses-1/func/sub-colornest053_ses-1_task-rest_run-02_bold.nii.gz'), PosixPath('/Users/Covitz/Downloads/RBC_growupCCNP_BIDS/sub-colornest056/ses-1/func/sub-colornest056_ses-1_task-rest_run-02_bold.nii.gz'), PosixPath('/Users/Covitz/Downloads/RBC_growupCCNP_BIDS/sub-colornest059/ses-1/func/sub-colornest059_ses-1_task-rest_run-02_bold.nii.gz'), PosixPath('/Users/Covitz/Downloads/RBC_growupCCNP_BIDS/sub-colornest061/ses-1/func/sub-colornest061_ses-1_task-rest_run-02_bold.nii.gz'), PosixPath('/Users/Covitz/Downloads/RBC_growupCCNP_BIDS/sub-colornest063/ses-1/func/sub-colornest063_ses-1_task-rest_run-02_bold.nii.gz'), PosixPath('/Users/Covitz/Downloads/RBC_growupCCNP_BIDS/sub-colornest064/ses-1/func/sub-colornest064_ses-1_task-rest_run-02_bold.nii.gz'), PosixPath('/Users/Covitz/Downloads/RBC_growupCCNP_BIDS/sub-colornest066/ses-1/func/sub-colornest066_ses-1_task-rest_run-02_bold.nii.gz'), PosixPath('/Users/Covitz/Downloads/RBC_growupCCNP_BIDS/sub-colornest067/ses-1/func/sub-colornest067_ses-1_task-rest_run-02_bold.nii.gz'), PosixPath('/Users/Covitz/Downloads/RBC_growupCCNP_BIDS/sub-colornest070/ses-1/func/sub-colornest070_ses-1_task-rest_run-02_bold.nii.gz'), PosixPath('/Users/Covitz/Downloads/RBC_growupCCNP_BIDS/sub-colornest071/ses-1/func/sub-colornest071_ses-1_task-rest_run-02_bold.nii.gz'), PosixPath('/Users/Covitz/Downloads/RBC_growupCCNP_BIDS/sub-colornest073/ses-1/func/sub-colornest073_ses-1_task-rest_run-02_bold.nii.gz'), PosixPath('/Users/Covitz/Downloads/RBC_growupCCNP_BIDS/sub-colornest074/ses-1/func/sub-colornest074_ses-1_task-rest_run-02_bold.nii.gz'), PosixPath('/Users/Covitz/Downloads/RBC_growupCCNP_BIDS/sub-colornest077/ses-1/func/sub-colornest077_ses-1_task-rest_run-02_bold.nii.gz'), PosixPath('/Users/Covitz/Downloads/RBC_growupCCNP_BIDS/sub-colornest080/ses-1/func/sub-colornest080_ses-1_task-rest_run-02_bold.nii.gz'), PosixPath('/Users/Covitz/Downloads/RBC_growupCCNP_BIDS/sub-colornest085/ses-1/func/sub-colornest085_ses-1_task-rest_run-02_bold.nii.gz'), PosixPath('/Users/Covitz/Downloads/RBC_growupCCNP_BIDS/sub-colornest086/ses-1/func/sub-colornest086_ses-1_task-rest_run-02_bold.nii.gz'), PosixPath('/Users/Covitz/Downloads/RBC_growupCCNP_BIDS/sub-colornest087/ses-1/func/sub-colornest087_ses-1_task-rest_run-02_bold.nii.gz'), PosixPath('/Users/Covitz/Downloads/RBC_growupCCNP_BIDS/sub-colornest088/ses-1/func/sub-colornest088_ses-1_task-rest_run-02_bold.nii.gz'), PosixPath('/Users/Covitz/Downloads/RBC_growupCCNP_BIDS/sub-colornest090/ses-1/func/sub-colornest090_ses-1_task-rest_run-02_bold.nii.gz'), PosixPath('/Users/Covitz/Downloads/RBC_growupCCNP_BIDS/sub-colornest093/ses-1/func/sub-colornest093_ses-1_task-rest_run-02_bold.nii.gz'), PosixPath('/Users/Covitz/Downloads/RBC_growupCCNP_BIDS/sub-colornest095/ses-1/func/sub-colornest095_ses-1_task-rest_run-02_bold.nii.gz'), PosixPath('/Users/Covitz/Downloads/RBC_growupCCNP_BIDS/sub-colornest098/ses-1/func/sub-colornest098_ses-1_task-rest_run-02_bold.nii.gz'), PosixPath('/Users/Covitz/Downloads/RBC_growupCCNP_BIDS/sub-colornest106/ses-1/func/sub-colornest106_ses-1_task-rest_run-02_bold.nii.gz'), PosixPath('/Users/Covitz/Downloads/RBC_growupCCNP_BIDS/sub-colornest107/ses-1/func/sub-colornest107_ses-1_task-rest_run-02_bold.nii.gz'), PosixPath('/Users/Covitz/Downloads/RBC_growupCCNP_BIDS/sub-colornest110/ses-1/func/sub-colornest110_ses-1_task-rest_run-02_bold.nii.gz'), PosixPath('/Users/Covitz/Downloads/RBC_growupCCNP_BIDS/sub-colornest111/ses-1/func/sub-colornest111_ses-1_task-rest_run-02_bold.nii.gz'), PosixPath('/Users/Covitz/Downloads/RBC_growupCCNP_BIDS/sub-colornest113/ses-1/func/sub-colornest113_ses-1_task-rest_run-02_bold.nii.gz'), PosixPath('/Users/Covitz/Downloads/RBC_growupCCNP_BIDS/sub-colornest114/ses-1/func/sub-colornest114_ses-1_task-rest_run-02_bold.nii.gz'), PosixPath('/Users/Covitz/Downloads/RBC_growupCCNP_BIDS/sub-colornest115/ses-1/func/sub-colornest115_ses-1_task-rest_run-02_bold.nii.gz'), PosixPath('/Users/Covitz/Downloads/RBC_growupCCNP_BIDS/sub-colornest116/ses-1/func/sub-colornest116_ses-1_task-rest_run-02_bold.nii.gz'), PosixPath('/Users/Covitz/Downloads/RBC_growupCCNP_BIDS/sub-colornest117/ses-1/func/sub-colornest117_ses-1_task-rest_run-02_bold.nii.gz'), PosixPath('/Users/Covitz/Downloads/RBC_growupCCNP_BIDS/sub-colornest120/ses-1/func/sub-colornest120_ses-1_task-rest_run-02_bold.nii.gz'), PosixPath('/Users/Covitz/Downloads/RBC_growupCCNP_BIDS/sub-colornest125/ses-1/func/sub-colornest125_ses-1_task-rest_run-02_bold.nii.gz'), PosixPath('/Users/Covitz/Downloads/RBC_growupCCNP_BIDS/sub-colornest127/ses-1/func/sub-colornest127_ses-1_task-rest_run-02_bold.nii.gz'), PosixPath('/Users/Covitz/Downloads/RBC_growupCCNP_BIDS/sub-colornest130/ses-1/func/sub-colornest130_ses-1_task-rest_run-02_bold.nii.gz'), PosixPath('/Users/Covitz/Downloads/RBC_growupCCNP_BIDS/sub-colornest131/ses-1/func/sub-colornest131_ses-1_task-rest_run-02_bold.nii.gz'), PosixPath('/Users/Covitz/Downloads/RBC_growupCCNP_BIDS/sub-colornest133/ses-1/func/sub-colornest133_ses-1_task-rest_run-02_bold.nii.gz'), PosixPath('/Users/Covitz/Downloads/RBC_growupCCNP_BIDS/sub-colornest143/ses-1/func/sub-colornest143_ses-1_task-rest_run-02_bold.nii.gz'), PosixPath('/Users/Covitz/Downloads/RBC_growupCCNP_BIDS/sub-colornest144/ses-1/func/sub-colornest144_ses-1_task-rest_run-02_bold.nii.gz'), PosixPath('/Users/Covitz/Downloads/RBC_growupCCNP_BIDS/sub-colornest147/ses-1/func/sub-colornest147_ses-1_task-rest_run-02_bold.nii.gz'), PosixPath('/Users/Covitz/Downloads/RBC_growupCCNP_BIDS/sub-colornest148/ses-1/func/sub-colornest148_ses-1_task-rest_run-02_bold.nii.gz'), PosixPath('/Users/Covitz/Downloads/RBC_growupCCNP_BIDS/sub-colornest152/ses-1/func/sub-colornest152_ses-1_task-rest_run-02_bold.nii.gz'), PosixPath('/Users/Covitz/Downloads/RBC_growupCCNP_BIDS/sub-colornest154/ses-1/func/sub-colornest154_ses-1_task-rest_run-02_bold.nii.gz'), PosixPath('/Users/Covitz/Downloads/RBC_growupCCNP_BIDS/sub-colornest155/ses-1/func/sub-colornest155_ses-1_task-rest_run-02_bold.nii.gz'), PosixPath('/Users/Covitz/Downloads/RBC_growupCCNP_BIDS/sub-colornest159/ses-1/func/sub-colornest159_ses-1_task-rest_run-02_bold.nii.gz'), PosixPath('/Users/Covitz/Downloads/RBC_growupCCNP_BIDS/sub-colornest161/ses-1/func/sub-colornest161_ses-1_task-rest_run-02_bold.nii.gz'), PosixPath('/Users/Covitz/Downloads/RBC_growupCCNP_BIDS/sub-colornest169/ses-1/func/sub-colornest169_ses-1_task-rest_run-02_bold.nii.gz'), PosixPath('/Users/Covitz/Downloads/RBC_growupCCNP_BIDS/sub-colornest173/ses-1/func/sub-colornest173_ses-1_task-rest_run-02_bold.nii.gz'), PosixPath('/Users/Covitz/Downloads/RBC_growupCCNP_BIDS/sub-colornest175/ses-1/func/sub-colornest175_ses-1_task-rest_run-02_bold.nii.gz'), PosixPath('/Users/Covitz/Downloads/RBC_growupCCNP_BIDS/sub-colornest177/ses-1/func/sub-colornest177_ses-1_task-rest_run-02_bold.nii.gz'), PosixPath('/Users/Covitz/Downloads/RBC_growupCCNP_BIDS/sub-colornest182/ses-1/func/sub-colornest182_ses-1_task-rest_run-02_bold.nii.gz'), PosixPath('/Users/Covitz/Downloads/RBC_growupCCNP_BIDS/sub-colornest184/ses-1/func/sub-colornest184_ses-1_task-rest_run-02_bold.nii.gz'), PosixPath('/Users/Covitz/Downloads/RBC_growupCCNP_BIDS/sub-colornest194/ses-1/func/sub-colornest194_ses-1_task-rest_run-02_bold.nii.gz'), PosixPath('/Users/Covitz/Downloads/RBC_growupCCNP_BIDS/sub-colornest195/ses-1/func/sub-colornest195_ses-1_task-rest_run-02_bold.nii.gz')]\n",
      "73\n"
     ]
    }
   ],
   "source": [
    "# TESTING THE change_filename method!\n",
    "key_group = 'datatype-func_run-2_suffix-bold_task-rest'\n",
    "split_params = {'FlipAngle': 80, 'EffectiveEchoSpacing': 0.000510002, 'PartialFourier': 1, 'TotalReadoutTime': 0.0362102, 'RepetitionTime': 2.5, 'EchoTime': 0.03, 'PhaseEncodingDirection': 'j-', 'DwellTime': 3.1e-06, 'SliceTime000': 1.2, 'SliceTime001': 0, 'SliceTime002': 1.3, 'SliceTime003': 0.1, 'SliceTime004': 1.4, 'SliceTime005': 0.1, 'SliceTime006': 1.4, 'SliceTime007': 0.2, 'SliceTime008': 1.5, 'SliceTime009': 0.3, 'SliceTime010': 1.6, 'SliceTime011': 0.3, 'SliceTime012': 1.6, 'SliceTime013': 0.4, 'SliceTime014': 1.7, 'SliceTime015': 0.5, 'SliceTime016': 1.8, 'SliceTime017': 0.5, 'SliceTime018': 1.8, 'SliceTime019': 0.6, 'SliceTime020': 1.9, 'SliceTime021': 0.7, 'SliceTime022': 2.0, 'SliceTime023': 0.7, 'SliceTime024': 2.0, 'SliceTime025': 0.8, 'SliceTime026': 2.1, 'SliceTime027': 0.9, 'SliceTime028': 2.2, 'SliceTime029': 0.9, 'SliceTime030': 2.2, 'SliceTime031': 1.0, 'SliceTime032': 2.3, 'SliceTime033': 1.0, 'SliceTime034': 2.4, 'SliceTime035': 1.1, 'SliceTime036': 2.4, 'SliceTime037': 1.2}\n",
    "pattern = \"task\"\n",
    "replacement = \"TASK\"\n",
    "ret = bod.change_filenames(key_group, split_params, pattern, replacement)\n",
    "\n",
    "changed_paths = ret\n",
    "\n",
    "print(changed_paths)\n",
    "print(len(changed_paths))\n"
   ]
  },
  {
   "cell_type": "code",
   "execution_count": null,
   "metadata": {},
   "outputs": [],
   "source": []
  },
  {
   "cell_type": "code",
   "execution_count": null,
   "metadata": {},
   "outputs": [],
   "source": [
    "# TESTING SOMOE SHIT WOOOOOOOOOOOOO\n",
    "\n",
    "dict_0 = {'EchoTime': 0.03, 'TotalReadoutTime': 0.0362102, 'RepetitionTime': 2.5, 'DwellTime': 3.1e-06, 'PartialFourier': 1, 'FlipAngle': 80, 'EffectiveEchoSpacing': 0.000510002, 'PhaseEncodingDirection': 'j-', 'SliceTime000': 1.2, 'SliceTime001': 0, 'SliceTime002': 1.3, 'SliceTime003': 0.1, 'SliceTime004': 1.4, 'SliceTime005': 0.1, 'SliceTime006': 1.4, 'SliceTime007': 0.2, 'SliceTime008': 1.5, 'SliceTime009': 0.3, 'SliceTime010': 1.6, 'SliceTime011': 0.3, 'SliceTime012': 1.6, 'SliceTime013': 0.4, 'SliceTime014': 1.7, 'SliceTime015': 0.5, 'SliceTime016': 1.8, 'SliceTime017': 0.5, 'SliceTime018': 1.8, 'SliceTime019': 0.6, 'SliceTime020': 1.9, 'SliceTime021': 0.7, 'SliceTime022': 2.0, 'SliceTime023': 0.7, 'SliceTime024': 2.0, 'SliceTime025': 0.8, 'SliceTime026': 2.1, 'SliceTime027': 0.9, 'SliceTime028': 2.2, 'SliceTime029': 0.9, 'SliceTime030': 2.2, 'SliceTime031': 1.0, 'SliceTime032': 2.3, 'SliceTime033': 1.0, 'SliceTime034': 2.4, 'SliceTime035': 1.1, 'SliceTime036': 2.4, 'SliceTime037': 1.2} \n",
    "dict_1 = {'EchoTime': 0.03, 'TotalReadoutTime': 0.0362102, 'RepetitionTime': 2.5, 'DwellTime': 3.1e-06, 'PartialFourier': 1, 'FlipAngle': 80, 'EffectiveEchoSpacing': 0.000510002, 'PhaseEncodingDirection': 'j-', 'SliceTime000': 1.2, 'SliceTime001': 0, 'SliceTime002': 1.3, 'SliceTime003': 0.1, 'SliceTime004': 1.4, 'SliceTime005': 0.1, 'SliceTime006': 1.4, 'SliceTime007': 0.2, 'SliceTime008': 1.5, 'SliceTime009': 0.3, 'SliceTime010': 1.6, 'SliceTime011': 0.3, 'SliceTime012': 1.6, 'SliceTime013': 0.4, 'SliceTime014': 1.7, 'SliceTime015': 0.5, 'SliceTime016': 1.8, 'SliceTime017': 0.5, 'SliceTime018': 1.8, 'SliceTime019': 0.6, 'SliceTime020': 1.9, 'SliceTime021': 0.7, 'SliceTime022': 2.0, 'SliceTime023': 0.7, 'SliceTime024': 2.0, 'SliceTime025': 0.8, 'SliceTime026': 2.1, 'SliceTime027': 0.9, 'SliceTime028': 2.2, 'SliceTime029': 0.9, 'SliceTime030': 2.2, 'SliceTime031': 1.0, 'SliceTime032': 2.3, 'SliceTime033': 1.0, 'SliceTime034': 2.4, 'SliceTime035': 1.1, 'SliceTime036': 2.4, 'SliceTime037': 1.2}\n",
    "\n",
    "if dict_0 == split_params: \n",
    "    print(\"YAY\")\n",
    "else:\n",
    "    print(\"STUPID\")"
   ]
  },
  {
   "cell_type": "code",
   "execution_count": null,
   "metadata": {},
   "outputs": [],
   "source": []
  }
 ],
 "metadata": {
  "kernelspec": {
   "display_name": "Python 3",
   "language": "python",
   "name": "python3"
  },
  "language_info": {
   "codemirror_mode": {
    "name": "ipython",
    "version": 3
   },
   "file_extension": ".py",
   "mimetype": "text/x-python",
   "name": "python",
   "nbconvert_exporter": "python",
   "pygments_lexer": "ipython3",
   "version": "3.8.3"
  }
 },
 "nbformat": 4,
 "nbformat_minor": 4
}
